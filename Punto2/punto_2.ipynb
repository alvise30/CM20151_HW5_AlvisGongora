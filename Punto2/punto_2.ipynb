{
 "metadata": {
  "name": "",
  "signature": "sha256:4b83b2fff3cd985c06bb5b4f26d2459ab1d89c69e3644f5fc0c52227799134f7"
 },
 "nbformat": 3,
 "nbformat_minor": 0,
 "worksheets": [
  {
   "cells": [
    {
     "cell_type": "code",
     "collapsed": false,
     "input": [
      "%pylab inline"
     ],
     "language": "python",
     "metadata": {},
     "outputs": [
      {
       "output_type": "stream",
       "stream": "stdout",
       "text": [
        "Populating the interactive namespace from numpy and matplotlib\n"
       ]
      }
     ],
     "prompt_number": 1
    },
    {
     "cell_type": "markdown",
     "metadata": {},
     "source": [
      "a)\n",
      "----------\n",
      "En este punto se debe desarrollar una funci\u00f3n que utilice el m\u00e9todo del rechazo para evaluar una integral dada.  \n",
      "***Todo este programa debe estar escrito en R***\n"
     ]
    },
    {
     "cell_type": "code",
     "collapsed": false,
     "input": [],
     "language": "python",
     "metadata": {},
     "outputs": []
    }
   ],
   "metadata": {}
  }
 ]
}